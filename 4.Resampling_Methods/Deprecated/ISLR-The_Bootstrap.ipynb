{
 "cells": [
  {
   "cell_type": "markdown",
   "metadata": {},
   "source": [
    "**Approach**:\n",
    "\n",
    "1. A data set, which we call Z, that contains n observations. We randomly select n observations from the data set in order to produce a bootstrap data set, $Z^{∗1}$. \n",
    "\n",
    "2. The sampling is performed with **replacement**, which means that the replacement same observation can occur more than once in the bootstrap data set. \n",
    " - In this example, $Z^{∗1}$ contains the third observation twice, the first observation once, and no instances of the second observation. \n",
    " - Note that if an observation is contained in $Z^{∗1}$, then both its X and Y values are included. \n",
    " \n",
    "3. We can use $Z^{∗1}$ to produce a new bootstrap estimate for α, which we call $\\alpha^{∗1}$. This procedure is repeated B times for some large value of B, in order to produce B different bootstrap data sets, $Z^{∗1}$,$Z^{∗2}$, . . . , $Z^{∗B}$, and B corresponding α estimates, $\\alpha^{∗1}$, $\\alpha^{∗2}$, . . . , $\\alpha^{∗B}$. \n",
    "\n",
    "4. We can compute the standard error of these bootstrap estimates using the formula\n",
    "\\begin{align}\n",
    "SE_B(\\hat{\\alpha})=\\sqrt{\\frac{1}{B-1}\\sum_{i=1}^B\\left( \\hat{\\alpha}^{*i}-\\frac{1}{B}\\sum^{B}_{j=1}\\hat{\\alpha}^{*j} \\right)}\n",
    "\\end{align}\n",
    "This serves as an estimate of the standard error of $\\hat{\\alpha}$ estimated from the original data set.\n",
    "\n",
    "<img src=\"./images/1.png\" width=600>"
   ]
  }
 ],
 "metadata": {
  "kernelspec": {
   "display_name": "Python 3",
   "language": "python",
   "name": "python3"
  },
  "language_info": {
   "codemirror_mode": {
    "name": "ipython",
    "version": 3
   },
   "file_extension": ".py",
   "mimetype": "text/x-python",
   "name": "python",
   "nbconvert_exporter": "python",
   "pygments_lexer": "ipython3",
   "version": "3.7.3"
  },
  "toc": {
   "base_numbering": 1,
   "nav_menu": {},
   "number_sections": true,
   "sideBar": true,
   "skip_h1_title": false,
   "title_cell": "Table of Contents",
   "title_sidebar": "Contents",
   "toc_cell": false,
   "toc_position": {},
   "toc_section_display": true,
   "toc_window_display": false
  }
 },
 "nbformat": 4,
 "nbformat_minor": 2
}
