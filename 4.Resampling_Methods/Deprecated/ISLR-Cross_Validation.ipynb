{
 "cells": [
  {
   "cell_type": "markdown",
   "metadata": {},
   "source": [
    "**Resampling methods**:involve repeatedly drawing samples from a training set and refitting a mode of interest on each sample in order to obtain additional information about the fitted model.\n",
    "\n",
    "**model assessment**： The process of evaluating a model’s performance\n",
    "\n",
    "**model selection**：The process of selecting the proper level of flexibility for a model\n",
    "\n",
    "**cross-validation**: can be used to estimate the test error associated with a given statistical learning method in order to evaluate its performance, or to select the appropriate level of flexibility.\n",
    "\n",
    "**bootstrap**:provide a measure of accuracy of a parameter estimate or of a given selection statistical learning method."
   ]
  },
  {
   "cell_type": "markdown",
   "metadata": {},
   "source": [
    "# The Validation Set Approach\n",
    "**The Validation Set Approach**:\n",
    "\n",
    "1. Randomly dividing the available set of observations into two parts, a **training set** and a **validation set** or hold-out set. \n",
    "\n",
    "2. The model is fit on the training set, and the fitted model is used to predict the responses for the observations in the validation set. \n",
    "\n",
    "3. The resulting validation set error rate—typically assessed using MSE in the case of a quantitative response—provides an estimate of the test error rate.\n",
    "\n",
    "**Disadvantage**:\n",
    "\n",
    "1. The validation estimate of the test error rate can be highly variable, depending on precisely which observations are included in the training set and which observations are included in the validation set.\n",
    "\n",
    "2. In the validation approach, only a subset of the observations—those\n",
    "that are included in the training set rather than in the validation\n",
    "set—are used to fit the model. Since statistical methods tend to perform\n",
    "worse when trained on *fewer observations*, this suggests that the\n",
    "validation set error rate may tend to overestimate the test error rate\n",
    "for the model fit on the entire data set."
   ]
  },
  {
   "cell_type": "markdown",
   "metadata": {},
   "source": [
    "# k-Fold Cross-Validation\n",
    "\n",
    "**Approach**:\n",
    "\n",
    "1. Randomly k-fold CV dividing the set of observations into k groups, or folds, of approximately equal size. \n",
    "\n",
    "2. The first fold is treated as a validation set, and the method is fit on the remaining k − 1 folds. \n",
    "\n",
    "3. The mean squared error, MSE1, is then computed on the observations in the held-out fold. This procedure is repeated k times; each time, a different group of observations is treated as a validation set. \n",
    "\n",
    "4. This process results in k estimates of the test error, MSE1,MSE2, . . . ,MSEk. \n",
    "\n",
    "5. The k-fold CV estimate is computed by averaging these values,\n",
    "\n",
    "\\begin{align}\n",
    "CV_{(k)}=\\frac{1}{k}\\sum_{i=1}^kMSE_i\n",
    "\\end{align}\n",
    "\n",
    "**Goal**：\n",
    "\n",
    "1. Determine how well a given statistical learning procedure can be expected to perform on independent data\n",
    "\n",
    "2. We are interested only in the location of the minimum point in the estimated test MSE curve. This is because we\n",
    "might be performing cross-validation on a number of statistical learning\n",
    "methods, or on a single method using different levels of flexibility, in order\n",
    "to identify the method that results in the lowest test error."
   ]
  },
  {
   "cell_type": "markdown",
   "metadata": {},
   "source": [
    "# Bias-Variance Trade-Off for k-Fold Cross-Validation\n",
    "\n",
    "**Leave-One-Out Cross-Validation V.S. k-Fold Cross-Validation**:\n",
    "- k-Fold more biased than LOOCV\n",
    " - LOOCV will give approximately unbiased estimates of the test error, since each training set contains n − 1 observations, which is almost as many as the number of observations in the full data set.\n",
    " - k-fold CV for, say, k = 5 or k = 10 will lead to an intermediate level of bias\n",
    "\n",
    "- k-Fold less variance than LOOCV\n",
    " - When we perform LOOCV, we are in effect averaging the outputs of n fitted models, each of which is trained on an almost identical set of observations; therefore, these outputs are highly (positively) correlated with each other.\n",
    " - the mean of many highly correlated quantities has higher variance than does the mean of many quantities that are not as highly correlated\n"
   ]
  },
  {
   "cell_type": "code",
   "execution_count": null,
   "metadata": {},
   "outputs": [],
   "source": []
  }
 ],
 "metadata": {
  "kernelspec": {
   "display_name": "Python 3",
   "language": "python",
   "name": "python3"
  },
  "language_info": {
   "codemirror_mode": {
    "name": "ipython",
    "version": 3
   },
   "file_extension": ".py",
   "mimetype": "text/x-python",
   "name": "python",
   "nbconvert_exporter": "python",
   "pygments_lexer": "ipython3",
   "version": "3.7.3"
  },
  "toc": {
   "base_numbering": 1,
   "nav_menu": {},
   "number_sections": true,
   "sideBar": true,
   "skip_h1_title": false,
   "title_cell": "Table of Contents",
   "title_sidebar": "Contents",
   "toc_cell": false,
   "toc_position": {},
   "toc_section_display": true,
   "toc_window_display": false
  }
 },
 "nbformat": 4,
 "nbformat_minor": 2
}
