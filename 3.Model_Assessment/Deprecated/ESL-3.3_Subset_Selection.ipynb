{
 "cells": [
  {
   "cell_type": "markdown",
   "metadata": {},
   "source": [
    "# 3.3 Subset Selection"
   ]
  },
  {
   "cell_type": "markdown",
   "metadata": {},
   "source": [
    "#### Drawbacks of least squares estimates:\n",
    "- *prediction accuracy*: the least squares estimates often have low bias but large variance. Prediction accuracy can sometimes be improved by shrinking or setting some coeﬃcients to zero.By doing so we sacriﬁce a little bit of bias to reduce the variance of the predicted values, and hence may improve the overall prediction accuracy.\n",
    "- *interpretation*: With a large number of predictors, we often would like to determine a smaller subset that exhibit the strongest eﬀects. In order to get the “big picture,” we are willing to sacriﬁce some of the small details.\n"
   ]
  },
  {
   "cell_type": "markdown",
   "metadata": {},
   "source": [
    "## 3.3.1 Best-Subset Selection\n",
    "Best subset regression ﬁnds for each k ∈{0, 1, 2,...,p} the subset of size k that gives smallest residual sum of squares.\n",
    "\n",
    "We choose the smallest model that minimizes an estimate of the expected prediction error.\n",
    "\n",
    "![title](./images/best_subset.png)\n",
    "> FIGURE 3.5.All possible subset models for the prostate cancer example. At each subset size is shown the residual sum-of-squares for each model of that size."
   ]
  },
  {
   "cell_type": "markdown",
   "metadata": {},
   "source": [
    "## 3.3.2 Forward- and Backward-Stepwise Selection\n",
    "\n",
    "> Rather than search through all possible subsets (which becomes infeasible for p much larger than 40), we can seek a good path through them.\n",
    "\n",
    "### Forward-stepwise selection\n",
    "**Forward-stepwise selection** starts with the intercept, and then sequentially adds into the model the predictor that most improves the ﬁt.\n",
    "\n",
    "Forward-stepwise selection is a *greedy algorithm*, producing a nested sequence of models. In this sense it might seem sub-optimal compared to\n",
    "best-subset selection. \n",
    "\n",
    "#### Advantages:\n",
    "- **Computational**: for large p we cannot compute the best subset sequence, but we can always compute the forward stepwise sequence\n",
    "- **Statistical**: a price is paid in variance for selecting the best subset of each size; forward stepwise is a more constrained search, and will have lower variance, but perhaps more bias\n",
    "\n",
    "### Backward-stepwise selection\n",
    "**Backward-stepwise selection** starts with the full model, and sequentially deletes the predictor that has the least impact on the ﬁt. The candidate for dropping is the variable with the smallest Z-score\n",
    "\n",
    "### Comparison\n",
    "Backward-stepwise selection can only be used when N>p, while forward stepwise can always be used."
   ]
  }
 ],
 "metadata": {
  "kernelspec": {
   "display_name": "Python 3",
   "language": "python",
   "name": "python3"
  },
  "language_info": {
   "codemirror_mode": {
    "name": "ipython",
    "version": 3
   },
   "file_extension": ".py",
   "mimetype": "text/x-python",
   "name": "python",
   "nbconvert_exporter": "python",
   "pygments_lexer": "ipython3",
   "version": "3.7.3"
  },
  "toc": {
   "base_numbering": 1,
   "nav_menu": {},
   "number_sections": true,
   "sideBar": true,
   "skip_h1_title": false,
   "title_cell": "Table of Contents",
   "title_sidebar": "Contents",
   "toc_cell": false,
   "toc_position": {},
   "toc_section_display": true,
   "toc_window_display": true
  }
 },
 "nbformat": 4,
 "nbformat_minor": 2
}
