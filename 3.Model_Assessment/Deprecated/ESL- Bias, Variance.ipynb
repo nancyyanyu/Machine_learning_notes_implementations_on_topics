{
 "cells": [
  {
   "cell_type": "markdown",
   "metadata": {},
   "source": [
    "# Bias, Variance and Model Complexity\n",
    "\n",
    "**Test error** (generalization error): the prediction error over an independent test sample\n",
    "\\begin{align}\n",
    "Err_\\tau=E[L(Y,\\hat{f}(X))|\\tau]\n",
    "\\end{align}\n",
    "Here the training set $\\tau$ is fixed, and test error refers to the error for this specific training set.\n",
    "\n",
    "**Expected test error: **\n",
    "\\begin{align}\n",
    "Err=E[L(Y,\\hat{f}(X)]=E[Err_\\tau]\n",
    "\\end{align}\n",
    "This expectation averages over everything that is random, including the randomness in the training set that produced $\\hat{f}$\n",
    "\n",
    "\n",
    "**Training error**: the average loss over the training sample\n",
    "\\begin{align}\n",
    "\\bar{err}=\\frac{1}{N}\\sum_{i=1}^NL(y_i,\\hat{f}(x_i))\n",
    "\\end{align}\n",
    "\n",
    "<img src=\"./images/bv.PNG\" width=370>\n",
    "\n",
    "\n",
    "**Model selection:** estimating the performance of different models in order to choose the best one.\n",
    "\n",
    "**Model assessment:** having chosen a final model, estimating its prediction error (generalization error) on new data.\n",
    "\n",
    "Randomly divide the dataset into three parts: \n",
    "- a **training set**: fit the models\n",
    "- a **validation set**: estimate prediction error for model selection\n",
    "- a **test set**: assessment of the generalization error of the \f",
    "nal chosen model\n",
    "\n",
    "A typical split might be 50% for training, and 25% each for validation and testing:"
   ]
  },
  {
   "cell_type": "markdown",
   "metadata": {},
   "source": [
    "# The Bias Variance Decomposition\n",
    "\n",
    "## General Model\n",
    "If we assume that $Y=f(X)+\\epsilon$ where $E(\\epsilon)=0$, and $Var(\\epsilon)=\\sigma^2_\\epsilon$, we can derive an expression for the expected prediction error of a regression fit $\\hat{f}(X)$ at an input point X = x0, using squared-error loss:\n",
    "\n",
    "\\begin{align}\n",
    "Err(x_0)&=E[(Y-\\hat{f}(x_0))^2|X=x_0] \\\\\n",
    "&=E[(f(x_0)+\\epsilon-\\hat{f}(x_0))^2] \\\\\n",
    "&=E[\\epsilon^2+(f(x_0)-\\hat{f}(x_0))^2+2\\epsilon(f(x_0)-\\hat{f}(x_0))] \\\\\n",
    "&=\\sigma^2_\\epsilon+E[f(x_0)^2+\\hat{f}(x_0)^2-2f(x_0)\\hat{f}(x_0)] \\\\\n",
    "&=\\sigma^2_\\epsilon+E[\\hat{f}(x_0)^2]+f(x_0)^2-2f(x_0)E[\\hat{f}(x_0)]  \\\\\n",
    "&=\\sigma^2_\\epsilon+(E[\\hat{f}(x_0)])^2+f(x_0)^2-2f(x_0)E[\\hat{f}(x_0)] +E[\\hat{f}(x_0)^2]-(E[\\hat{f}(x_0))^2 \\\\\n",
    "&=\\sigma^2_\\epsilon+(E\\hat{f}(x_0)-f(x_0))^2+Var(\\hat{f}(x_0))\\\\\n",
    "&=\\sigma^2_\\epsilon+Bias^2(\\hat{f}(x_0))+Var(\\hat{f}(x_0))\\\\\n",
    "&= Irreducible Error+ Bias^2 + Variance\n",
    "\\end{align}\n",
    "\n",
    "1. The first term is the variance of the target around its true mean f(x0), and cannot be avoided no matter how well we estimate f(x0), unless $\\sigma^2_\\epsilon=0$\n",
    "2. The second term is the squared bias, the amount by which the average of our estimate differs from the true mean\n",
    "3. The last term is the variance; the expected squared deviation of $\\hat{f}(x_0)$ around its mean. \n",
    "\n",
    ">Typically the more complex we make the model $\\hat{f}$, the lower the (squared) bias but the higher the variance.\n",
    "\n",
    "## KNN regression\n",
    "For the k-nearest-neighbor regression \f",
    "t, these expressions have the sim-\n",
    "ple form\n",
    "\\begin{align}\n",
    "Err(x_0)&=E[(Y-\\hat{f}_k(x_0))^2|X=x_0] \\\\\n",
    "\\end{align}\n",
    "\n",
    "<img src=\"./images/bv2.PNG\" width=470>"
   ]
  },
  {
   "cell_type": "code",
   "execution_count": null,
   "metadata": {},
   "outputs": [],
   "source": []
  }
 ],
 "metadata": {
  "kernelspec": {
   "display_name": "Python 3",
   "language": "python",
   "name": "python3"
  },
  "language_info": {
   "codemirror_mode": {
    "name": "ipython",
    "version": 3
   },
   "file_extension": ".py",
   "mimetype": "text/x-python",
   "name": "python",
   "nbconvert_exporter": "python",
   "pygments_lexer": "ipython3",
   "version": "3.7.3"
  },
  "toc": {
   "base_numbering": 1,
   "nav_menu": {},
   "number_sections": true,
   "sideBar": true,
   "skip_h1_title": false,
   "title_cell": "Table of Contents",
   "title_sidebar": "Contents",
   "toc_cell": false,
   "toc_position": {},
   "toc_section_display": true,
   "toc_window_display": true
  }
 },
 "nbformat": 4,
 "nbformat_minor": 2
}
