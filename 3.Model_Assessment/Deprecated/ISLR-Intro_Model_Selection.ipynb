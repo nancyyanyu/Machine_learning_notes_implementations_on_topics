{
 "cells": [
  {
   "cell_type": "markdown",
   "metadata": {},
   "source": [
    "#\n",
    "\n",
    "**Setting:**\n",
    "- In the regression setting, the standard linear model\n",
    "$Y = β_0 + β_1X_1 + · · · + β_pX_p + \\epsilon$\n",
    "\n",
    "- In the chapters that follow, we consider some approaches for extending\n",
    "the linear model framework.\n",
    "\n",
    "**Reason of using other fitting procedure than lease squares**:\n",
    "- ***Prediction Accuracy:*** \n",
    " - Provided that the true relationship between the response and the predictors is approximately linear, the least squares estimates will have low bias. \n",
    " - If n $\\gg$ p, least squares estimates tend to also have low variance $\\Rightarrow$ perform well on test data.\n",
    " - If n is not much larger than p, least squares fit has large variance $\\Rightarrow$ overfitting $\\Rightarrow$ consequently poor predictions on test data\n",
    " - If p > n, no more unique least squares coefficient estimate: the **variance is infinite** so the method cannot be used at all\n",
    " \n",
    "  By **constraining** or **shrinking** the estimated coefficients, we can often substantially reduce the variance at the cost of a negligible increase in bias.\n",
    "  \n",
    "- ***Model Interpretability***：\n",
    " - irrelevant variables leads to unnecessary complexity in the resulting model. By removing these\n",
    "variables—that is, by setting the corresponding coefficient estimates\n",
    "to zero—we can obtain a model that is more easily interpreted. \n",
    " - least squares is extremely unlikely to yield any coefficient estimates that are exactly zero $\\Rightarrow$ **feature selection**\n",
    " \n",
    " \n",
    "**Alternatives of lease squares:**\n",
    "\n",
    "1. Subset Selection\n",
    "2. Shrinkage\n",
    "3. Dimension Reduction\n"
   ]
  },
  {
   "cell_type": "code",
   "execution_count": null,
   "metadata": {},
   "outputs": [],
   "source": []
  }
 ],
 "metadata": {
  "kernelspec": {
   "display_name": "Python 3",
   "language": "python",
   "name": "python3"
  },
  "language_info": {
   "codemirror_mode": {
    "name": "ipython",
    "version": 3
   },
   "file_extension": ".py",
   "mimetype": "text/x-python",
   "name": "python",
   "nbconvert_exporter": "python",
   "pygments_lexer": "ipython3",
   "version": "3.7.3"
  },
  "toc": {
   "base_numbering": 1,
   "nav_menu": {},
   "number_sections": true,
   "sideBar": true,
   "skip_h1_title": false,
   "title_cell": "Table of Contents",
   "title_sidebar": "Contents",
   "toc_cell": false,
   "toc_position": {},
   "toc_section_display": true,
   "toc_window_display": false
  }
 },
 "nbformat": 4,
 "nbformat_minor": 2
}
