{
 "cells": [
  {
   "cell_type": "markdown",
   "metadata": {},
   "source": [
    "# Model Inference and Averaging"
   ]
  },
  {
   "cell_type": "markdown",
   "metadata": {},
   "source": [
    "The fitting (learning) of models has been achieved by minimizing:\n",
    "- sum of squares for regression\n",
    "- cross-entropy for classification\n",
    "\n",
    "Both are instances of the maximum likelihood approach to fitting."
   ]
  },
  {
   "cell_type": "markdown",
   "metadata": {},
   "source": [
    "## The Bootstrap and Maximum Likelihood Methods"
   ]
  },
  {
   "cell_type": "markdown",
   "metadata": {},
   "source": [
    "**The bootstrap method**: provides a direct computational way of *assessing uncertainty*, by sampling from the training data. \n",
    "\n",
    "### Nonparametric bootstrap\n",
    "\n",
    "#### Setting\n",
    "- Training data by $Z = {z_1,z_2,...,z_N}$, with $z_i = (x_i,y_i)$, i = 1,2,...,N. \n",
    "- $x_i$ is a one-dimensional input\n",
    "- $y_i$ the outcome, either continuous or categorical.\n",
    "\n",
    "- fit a **cubic spline** to the data\n",
    "- 7-dimensional linear space of functions, and can be represented, by a linear expansion of B-spline basis functions :\n",
    "\n",
    "\\begin{align}\n",
    "\\mu(x)=\\sum_{j=1}^7\\beta_jh_j(x)\n",
    "\\end{align}\n",
    "\n",
    "$h_j(x)$, j = 1,2,...,7 are the seven functions shown in the right panel of Figure 8.1. \n",
    "<img src=\"./images/inf1.png\" width=450>\n",
    "\n",
    "### Parametric bootstrap\n"
   ]
  },
  {
   "cell_type": "code",
   "execution_count": null,
   "metadata": {},
   "outputs": [],
   "source": []
  }
 ],
 "metadata": {
  "kernelspec": {
   "display_name": "Python 3",
   "language": "python",
   "name": "python3"
  },
  "language_info": {
   "codemirror_mode": {
    "name": "ipython",
    "version": 3
   },
   "file_extension": ".py",
   "mimetype": "text/x-python",
   "name": "python",
   "nbconvert_exporter": "python",
   "pygments_lexer": "ipython3",
   "version": "3.7.3"
  }
 },
 "nbformat": 4,
 "nbformat_minor": 2
}
