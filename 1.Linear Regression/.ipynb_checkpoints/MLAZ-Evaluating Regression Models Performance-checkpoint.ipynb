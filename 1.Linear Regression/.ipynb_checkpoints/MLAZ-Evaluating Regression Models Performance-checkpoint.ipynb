{
 "cells": [
  {
   "cell_type": "markdown",
   "metadata": {},
   "source": [
    "# R-Squared\n",
    "> $R^2$ - Goodness of fit (greater is better)\n",
    "\n",
    "**Sum of squares of residuals**: $SS_{res}=\\sum(y_i-\\hat{y_i})^2$\n",
    "\n",
    "**Total sum of square:** $SS_{tot}=\\sum(y_i-y_{avg})^2$\n",
    "\n",
    "**R-Squared**: $R^2=1-\\frac{SS_{res}}{SS_{tot}}$\n",
    "\n",
    "**R-Squared Intuition**: In simple linear regression, we are trying to fit a line that minimize the sum of squares of residuals. While the average line is also a trend line, thought it's a horizontal line, R-squares tells us how good is your line compared to the average line.\n",
    "\n",
    ">$R^2$ closer to 1 the better; when your fitted line fits your dots worse than the average line, $R^2$ could be negative.\n"
   ]
  },
  {
   "cell_type": "markdown",
   "metadata": {},
   "source": [
    "# Adjusted R-Squared\n",
    "\\begin{align}\n",
    "y=b_0+b_1x_1+b_2x_2\n",
    "\\end{align}\n",
    "\n",
    "## Problem of R-Squared\n",
    "Once you add a new variable to the linear model, $SS_{tot}$ will not change, $SS_{res}$ will never be increasing, and ***$R^2$ will never decrease.***\n",
    "\n",
    "Whatever coefficient you give to the new variable, if it can not derease $SS_{res}$, this coefficient will go to 0.\n",
    "\n",
    "And new coefficient is never equal to 0, because there can always be at least a slight random correlation between the independent lavel and the dependent variable.\n",
    "\n",
    "## Adjusted R-Squared\n",
    "$Adj\\_R^2=1-(1-R^2)\\frac{n-1}{n-p-1}$ \n",
    "- p: number of regressors(indep. var.)\n",
    "- n: sample size\n",
    "\n",
    "Adjusted R-Squared has a penalization factor that penalizes you for adding indep. var. that don't help your model.\n",
    "- when p increases, (n-p-1) decreases, $Adj\\_R^2$ decreases\n",
    "- when p increases, $R^2$ increases, $Adj\\_R^2$ increases\n",
    "\n",
    "If your added variable is not good , then $R^2$ will have an insignificant increase, and $\\frac{n-1}{n-p-1}$ factor will drive $Adj\\_R^2$ down"
   ]
  },
  {
   "cell_type": "markdown",
   "metadata": {},
   "source": [
    "# Evaluating Regression Models Performance \n",
    "\n",
    "Sometimes, a variable's p-value could be quite large that you decide to remove it. However, adjusted-R will be smaller after removing this variable. So, you don't just follow the backward elimination or whatever method you are using. Instead, follow the rules but also watch the adjusted R-squared and see if it's improving"
   ]
  },
  {
   "cell_type": "markdown",
   "metadata": {},
   "source": [
    "# Interpreting Linear Regression Coefficients \n",
    "\n",
    "1. look at the **sign**\n",
    " - if the sign is positive, your variable is correlated with indep. var.\n",
    " - if the sign is negative-->opposite effect\n",
    "2. look at the **magnitude**\n",
    " - magnitude could be tricky!\n",
    " - always say magnitude in terms of units of the independent variable.\n",
    " >For example, if the coefficient of R&D-spend is larger than the coefficient of Marketing-spend, then you could say \"R&D-spend has a greater impact on profit per unit of R&D-spend than Marketing-spend\"\n",
    " \n",
    " - units increase in R&D-spend can be translated through this coefficient into units increase in profits.\n",
    "\n",
    "3. Coefficients only talk about the **additional effect** of every single variable given that the other vars.are already in place (fixed)\n"
   ]
  }
 ],
 "metadata": {
  "kernelspec": {
   "display_name": "Python 3",
   "language": "python",
   "name": "python3"
  },
  "language_info": {
   "codemirror_mode": {
    "name": "ipython",
    "version": 3
   },
   "file_extension": ".py",
   "mimetype": "text/x-python",
   "name": "python",
   "nbconvert_exporter": "python",
   "pygments_lexer": "ipython3",
   "version": "3.6.7"
  },
  "toc": {
   "base_numbering": 1,
   "nav_menu": {},
   "number_sections": true,
   "sideBar": true,
   "skip_h1_title": false,
   "title_cell": "Table of Contents",
   "title_sidebar": "Contents",
   "toc_cell": false,
   "toc_position": {},
   "toc_section_display": true,
   "toc_window_display": true
  }
 },
 "nbformat": 4,
 "nbformat_minor": 2
}
