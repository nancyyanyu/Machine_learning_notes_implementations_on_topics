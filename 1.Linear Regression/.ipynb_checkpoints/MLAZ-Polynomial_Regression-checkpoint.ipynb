{
 "cells": [
  {
   "cell_type": "markdown",
   "metadata": {},
   "source": [
    "# Implementation "
   ]
  },
  {
   "cell_type": "code",
   "execution_count": 1,
   "metadata": {},
   "outputs": [],
   "source": [
    "import numpy as np\n",
    "import pandas as pd\n",
    "import matplotlib.pyplot as plt\n",
    "from sklearn.model_selection import train_test_split\n",
    "\n",
    "df=pd.read_csv('./data/Position_Salaries.csv')\n",
    "X=df.iloc[:,1:-1].values\n",
    "y=df.iloc[:,-1].values\n",
    "\n",
    "#X_train,X_test,y_train,  y_test=train_test_split(X,y,test_size=1/3,random_state=0)"
   ]
  },
  {
   "cell_type": "code",
   "execution_count": 5,
   "metadata": {},
   "outputs": [
    {
     "data": {
      "text/plain": [
       "LinearRegression(copy_X=True, fit_intercept=True, n_jobs=None,\n",
       "         normalize=False)"
      ]
     },
     "execution_count": 5,
     "metadata": {},
     "output_type": "execute_result"
    }
   ],
   "source": [
    "# Linear Regression\n",
    "from sklearn.linear_model import LinearRegression\n",
    "lin_reg=LinearRegression()\n",
    "lin_reg.fit(X,y)"
   ]
  },
  {
   "cell_type": "code",
   "execution_count": 13,
   "metadata": {},
   "outputs": [
    {
     "data": {
      "text/plain": [
       "LinearRegression(copy_X=True, fit_intercept=True, n_jobs=None,\n",
       "         normalize=False)"
      ]
     },
     "execution_count": 13,
     "metadata": {},
     "output_type": "execute_result"
    }
   ],
   "source": [
    "#Polynomial Regression\n",
    "from sklearn.preprocessing import PolynomialFeatures\n",
    "poly_reg=PolynomialFeatures(degree=4)\n",
    "X_poly=poly_reg.fit_transform(X)\n",
    "lin_reg_2=LinearRegression()\n",
    "lin_reg_2.fit(X_poly,y)"
   ]
  },
  {
   "cell_type": "code",
   "execution_count": 18,
   "metadata": {},
   "outputs": [
    {
     "data": {
      "text/plain": [
       "[<matplotlib.lines.Line2D at 0x7f9b4dc82c88>]"
      ]
     },
     "execution_count": 18,
     "metadata": {},
     "output_type": "execute_result"
    },
    {
     "data": {
      "image/png": "[encoded data removed]",
      "text/plain": [
       "<Figure size 432x288 with 1 Axes>"
      ]
     },
     "metadata": {
      "needs_background": "light"
     },
     "output_type": "display_data"
    }
   ],
   "source": [
    "X_grid=np.arange(min(X),max(X),0.1)\n",
    "X_grid=X_grid.reshape((len(X_grid),1))\n",
    "\n",
    "plt.scatter(X,y,color='blue')\n",
    "plt.plot(X_grid,lin_reg_2.predict(poly_reg.fit_transform(X_grid)),color='red')"
   ]
  },
  {
   "cell_type": "markdown",
   "metadata": {},
   "source": [
    "# Questions\n",
    "\n",
    "## Is Polynomial Regression a linear or non linear model?\n",
    "That depends on what you are referring to. Polynomial Regression is linear on the coeﬃcients since we don’t\n",
    "have any power of the coeﬃcients (all the coeﬃcients are raised to the power of 1: b0, b1, ..., bn). However,\n",
    "Polynomial Regression is a non linear function of the input x, since we have the inputs raised to several\n",
    "powers: x (power 1), x2 (power 2), ..., xn (power n). That is how we can also see the Polynomial Regression\n",
    "as a non linear model. Besides indeed, Polynomial Regression is appropriate when the data is non linearly\n",
    "distributed (meaning you can’t ﬁt a straight line between y and x).\n",
    "\n",
    "## Why didn’t we apply Feature Scaling in our Polynomial Regression model?\n",
    "It’s simply because, since y is a linear combination of x and x2, the coeﬃcients can adapt their scale to put\n",
    "everything on the same scale. For example if y takes values between 0 and 1, x takes values between 1 and\n",
    "10 and x2 takes values between 1 and 100, then b1 can be multiplied by 0.1 and b2 can be multiplied by 0.01\n",
    "so that y, b1x1 and b2x2 are all on the same scale.\n",
    "\n",
    "## How do we ﬁnd the best degree?\n",
    "The main form of ﬁnding a good ﬁt is to plot the model and see what it looks like visually. You simply\n",
    "test several degrees and you see which one gives you the best ﬁt. The other option is to ﬁnd the lowest\n",
    "root-mean-square error (RMSE) for your model, but in that case be careful not to overﬁt the data.\n",
    "\n"
   ]
  },
  {
   "cell_type": "code",
   "execution_count": null,
   "metadata": {},
   "outputs": [],
   "source": []
  }
 ],
 "metadata": {
  "kernelspec": {
   "display_name": "Python 3",
   "language": "python",
   "name": "python3"
  },
  "language_info": {
   "codemirror_mode": {
    "name": "ipython",
    "version": 3
   },
   "file_extension": ".py",
   "mimetype": "text/x-python",
   "name": "python",
   "nbconvert_exporter": "python",
   "pygments_lexer": "ipython3",
   "version": "3.6.7"
  },
  "toc": {
   "base_numbering": 1,
   "nav_menu": {},
   "number_sections": true,
   "sideBar": true,
   "skip_h1_title": false,
   "title_cell": "Table of Contents",
   "title_sidebar": "Contents",
   "toc_cell": false,
   "toc_position": {},
   "toc_section_display": true,
   "toc_window_display": true
  }
 },
 "nbformat": 4,
 "nbformat_minor": 2
}
