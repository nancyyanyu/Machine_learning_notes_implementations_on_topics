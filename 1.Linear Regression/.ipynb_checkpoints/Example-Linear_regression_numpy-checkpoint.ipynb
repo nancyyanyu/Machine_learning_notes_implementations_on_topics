{
 "cells": [
  {
   "cell_type": "code",
   "execution_count": 2,
   "metadata": {
    "collapsed": true
   },
   "outputs": [],
   "source": [
    "import numpy as np\n",
    "import pandas as pd\n",
    "import matplotlib.pyplot as plt"
   ]
  },
  {
   "cell_type": "markdown",
   "metadata": {},
   "source": [
    "### Get Data"
   ]
  },
  {
   "cell_type": "code",
   "execution_count": 12,
   "metadata": {},
   "outputs": [],
   "source": [
    "#Civilian Unemployment Rate 6 days ago\n",
    "df1=pd.read_csv('./data/UNRATE.csv').set_index('DATE')\n",
    "#Economic Policy Uncertainty Index for China\n",
    "df2=pd.read_csv('./data/CHIEPUINDXM.csv').set_index('DATE')\n",
    "#Economic Policy Uncertainty Index for United States\n",
    "df3=pd.read_csv('./data/USEPUINDXD.csv').set_index('DATE')\n",
    "#Equity Market-related Economic Uncertainty Index\n",
    "df4=pd.read_csv('./data/WLEMUINDXD.csv').set_index('DATE')"
   ]
  },
  {
   "cell_type": "code",
   "execution_count": 15,
   "metadata": {},
   "outputs": [
    {
     "data": {
      "text/html": [
       "<div>\n",
       "<style>\n",
       "    .dataframe thead tr:only-child th {\n",
       "        text-align: right;\n",
       "    }\n",
       "\n",
       "    .dataframe thead th {\n",
       "        text-align: left;\n",
       "    }\n",
       "\n",
       "    .dataframe tbody tr th {\n",
       "        vertical-align: top;\n",
       "    }\n",
       "</style>\n",
       "<table border=\"1\" class=\"dataframe\">\n",
       "  <thead>\n",
       "    <tr style=\"text-align: right;\">\n",
       "      <th></th>\n",
       "      <th>UNRATE</th>\n",
       "      <th>CHIEPUINDXM</th>\n",
       "      <th>USEPUINDXD</th>\n",
       "      <th>WLEMUINDXD</th>\n",
       "    </tr>\n",
       "    <tr>\n",
       "      <th>DATE</th>\n",
       "      <th></th>\n",
       "      <th></th>\n",
       "      <th></th>\n",
       "      <th></th>\n",
       "    </tr>\n",
       "  </thead>\n",
       "  <tbody>\n",
       "    <tr>\n",
       "      <th>2014-05-01</th>\n",
       "      <td>6.3</td>\n",
       "      <td>80.76277</td>\n",
       "      <td>70.50</td>\n",
       "      <td>5.91</td>\n",
       "    </tr>\n",
       "    <tr>\n",
       "      <th>2014-06-01</th>\n",
       "      <td>6.1</td>\n",
       "      <td>102.23165</td>\n",
       "      <td>83.16</td>\n",
       "      <td>9.79</td>\n",
       "    </tr>\n",
       "    <tr>\n",
       "      <th>2014-07-01</th>\n",
       "      <td>6.2</td>\n",
       "      <td>127.48029</td>\n",
       "      <td>94.53</td>\n",
       "      <td>10.28</td>\n",
       "    </tr>\n",
       "    <tr>\n",
       "      <th>2014-08-01</th>\n",
       "      <td>6.1</td>\n",
       "      <td>151.00191</td>\n",
       "      <td>53.10</td>\n",
       "      <td>16.36</td>\n",
       "    </tr>\n",
       "    <tr>\n",
       "      <th>2014-09-01</th>\n",
       "      <td>5.9</td>\n",
       "      <td>185.76190</td>\n",
       "      <td>102.15</td>\n",
       "      <td>17.75</td>\n",
       "    </tr>\n",
       "  </tbody>\n",
       "</table>\n",
       "</div>"
      ],
      "text/plain": [
       "            UNRATE  CHIEPUINDXM  USEPUINDXD  WLEMUINDXD\n",
       "DATE                                                   \n",
       "2014-05-01     6.3     80.76277       70.50        5.91\n",
       "2014-06-01     6.1    102.23165       83.16        9.79\n",
       "2014-07-01     6.2    127.48029       94.53       10.28\n",
       "2014-08-01     6.1    151.00191       53.10       16.36\n",
       "2014-09-01     5.9    185.76190      102.15       17.75"
      ]
     },
     "execution_count": 15,
     "metadata": {},
     "output_type": "execute_result"
    }
   ],
   "source": [
    "#join all dataframe together\n",
    "df=df1.join(df2).join(df3).join(df4)\n",
    "df=df.dropna()\n",
    "df.head()"
   ]
  },
  {
   "cell_type": "markdown",
   "metadata": {},
   "source": [
    "### Calculate coefficient"
   ]
  },
  {
   "cell_type": "markdown",
   "metadata": {},
   "source": [
    "Remember the estimate of coefficient:\n",
    "\\begin{align}\\hat{\\beta}=(\\mathbf{X}^T\\mathbf{X})^{-1}\\mathbf{X}^Ty \\end{align}"
   ]
  },
  {
   "cell_type": "code",
   "execution_count": 27,
   "metadata": {},
   "outputs": [
    {
     "data": {
      "text/plain": [
       "Text(0.5,1,'Relationship of Unemployment Rate and Economic Policy Uncertainty')"
      ]
     },
     "execution_count": 27,
     "metadata": {},
     "output_type": "execute_result"
    },
    {
     "data": {
      "image/png": "[encoded data removed]",
      "text/plain": [
       "<matplotlib.figure.Figure at 0x913bc2ea90>"
      ]
     },
     "metadata": {},
     "output_type": "display_data"
    }
   ],
   "source": [
    "X=df.iloc[:,1:2].values\n",
    "y=df.iloc[:,3:4].values\n",
    "w=np.linalg.inv(X.T.dot(X)).dot(X.T).dot(y)\n",
    "plt.scatter(X[:,0],y[:,0],c='g')\n",
    "plt.plot(X[:,0],X[:,0]*w[0],c='b')\n",
    "plt.title('Relationship of Unemployment Rate and Economic Policy Uncertainty')"
   ]
  },
  {
   "cell_type": "code",
   "execution_count": null,
   "metadata": {
    "collapsed": true
   },
   "outputs": [],
   "source": []
  }
 ],
 "metadata": {
  "kernelspec": {
   "display_name": "Python 3",
   "language": "python",
   "name": "python3"
  },
  "language_info": {
   "codemirror_mode": {
    "name": "ipython",
    "version": 3
   },
   "file_extension": ".py",
   "mimetype": "text/x-python",
   "name": "python",
   "nbconvert_exporter": "python",
   "pygments_lexer": "ipython3",
   "version": "3.6.7"
  },
  "toc": {
   "base_numbering": 1,
   "nav_menu": {},
   "number_sections": true,
   "sideBar": true,
   "skip_h1_title": false,
   "title_cell": "Table of Contents",
   "title_sidebar": "Contents",
   "toc_cell": false,
   "toc_position": {},
   "toc_section_display": true,
   "toc_window_display": false
  }
 },
 "nbformat": 4,
 "nbformat_minor": 2
}
