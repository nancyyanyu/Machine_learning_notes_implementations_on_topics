{
 "cells": [
  {
   "cell_type": "markdown",
   "metadata": {},
   "source": [
    "# Parametric v.s. Non-parametric\n",
    "\n",
    "Linear regression is an example of a parametric approach because it assumes a linear functional form for f(X). \n",
    "\n",
    "**Parametric methods** \n",
    "- **Advantages**:\n",
    " - Easy to fit, because one need estimate only a small number of coefficients. \n",
    " - Simple interpretations, and tests of statistical\n",
    "significance can be easily performed\n",
    "- **Disadvantage**: \n",
    " - Strong assumptions about the form of f(X). If the specified functional form is far from the truth, and\n",
    "prediction accuracy is our goal, then the parametric method will perform\n",
    "poorly.\n",
    "\n",
    "**Non-parametric methods** \n",
    "- Do not explicitly assume a parametric\n",
    "form for f(X), and thereby provide an alternative and more flexible\n",
    "approach for performing regression.\n",
    "- K-nearest neighbors regression (KNN regression)\n",
    "\n",
    "\n"
   ]
  },
  {
   "cell_type": "markdown",
   "metadata": {},
   "source": [
    "# KNN Regression\n",
    "\n",
    "Given a value for $K$ and a prediction point $x_0$, KNN regression first identifies the $K$ training observations that are closest to $x_0$, represented by $N_0$. It then estimates $f(x_0)$ using the average of all the\n",
    "training responses in $N_0$.\n",
    "\n",
    "\\begin{align}\n",
    "\\hat{f}(x_0)=\\frac{1}{K}\\sum_{x_i\\in N_0}y_i\n",
    "\\end{align}\n",
    "\n",
    "- The optimal value\n",
    "for K will depend on the **bias-variance trade-off**.\n",
    " - A small value for K provides the most flexible fit, which will\n",
    "have low bias but high variance. This variance is due to the fact that the\n",
    "prediction in a given region is entirely dependent on just one observation.\n",
    " - A larger values of K provide a smoother and less variable fit; the\n",
    "prediction in a region is an average of several points, and so changing one\n",
    "observation has a smaller effect. However, the smoothing may cause bias by\n",
    "masking some of the structure in f(X)\n",
    "\n",
    "**The parametric approach will outperform the nonparametric\n",
    "approach if the parametric form that has been selected is close\n",
    "to the true form of f.**\n",
    "- A non-parametric approach incurs a cost in variance\n",
    "that is not offset by a reduction in bias\n",
    "- KNN performs slightly worse than linear regression when the relationship is linear, but much better\n",
    "than linear regression for non-linear situations.\n",
    "<img src=\"./images/26.png\" width=\"600\">\n",
    "\n",
    "**The increase in dimension has only caused a small deterioration in the linear regression test\n",
    "set MSE, but it has caused more than a ten-fold increase in the MSE for\n",
    "KNN.**\n",
    "- This decrease in performance as the dimension increases is a common\n",
    "problem for KNN, and results from the fact that in higher dimensions\n",
    "there is effectively a reduction in sample size.$\\Rightarrow$ **curse of dimensionality**\n",
    "- As a general rule, parametric methods will tend to outperform non-parametric approaches\n",
    "when there is a small number of observations per predictor.\n",
    "<img src=\"./images/25.png\" width=\"600\">"
   ]
  },
  {
   "cell_type": "code",
   "execution_count": null,
   "metadata": {},
   "outputs": [],
   "source": []
  }
 ],
 "metadata": {
  "kernelspec": {
   "display_name": "Python 3",
   "language": "python",
   "name": "python3"
  },
  "language_info": {
   "codemirror_mode": {
    "name": "ipython",
    "version": 3
   },
   "file_extension": ".py",
   "mimetype": "text/x-python",
   "name": "python",
   "nbconvert_exporter": "python",
   "pygments_lexer": "ipython3",
   "version": "3.7.3"
  },
  "toc": {
   "base_numbering": 1,
   "nav_menu": {},
   "number_sections": true,
   "sideBar": true,
   "skip_h1_title": false,
   "title_cell": "Table of Contents",
   "title_sidebar": "Contents",
   "toc_cell": false,
   "toc_position": {},
   "toc_section_display": true,
   "toc_window_display": true
  }
 },
 "nbformat": 4,
 "nbformat_minor": 2
}
