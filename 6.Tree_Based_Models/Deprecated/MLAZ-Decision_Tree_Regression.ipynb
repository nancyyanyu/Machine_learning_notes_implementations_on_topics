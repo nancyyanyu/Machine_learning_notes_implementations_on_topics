{
 "cells": [
  {
   "cell_type": "markdown",
   "metadata": {},
   "source": [
    "# Basic Ideas\n",
    "Tree-based methods partition the feature space into a set of rectangles, and\n",
    "then fit a simple model (like a constant) in each one.\n",
    "\n",
    "Decision tree builds regression or classification models in the form of a tree structure. \n",
    "\n",
    "- It breaks down a dataset into smaller and smaller subsets while at the same time an associated decision tree is incrementally developed. \n",
    "- The final result is a tree with decision nodes and leaf nodes. \n",
    " - A decision node (e.g., Outlook) has two or more branches (e.g., Sunny, Overcast and Rainy), each representing values for the attribute tested. \n",
    " - Leaf node (e.g., Hours Played) represents a decision on the numerical target. \n",
    " - The topmost decision node in a tree which corresponds to the best predictor called root node. \n",
    "- Decision trees can handle both categorical and numerical data. \n",
    "\n",
    "<img src=\"./images/dt1.png\" width=350>\n",
    "<img src=\"./images/dt2.png\" width=350>\n",
    "\n",
    "# CART\n",
    "## Concept\n",
    "Our data: \n",
    "- $(x_i,y_i)$ for i=1,2,....,N, with $x_i=(x_{i1},x_{i2},...,x_{ip})$\n",
    "\n",
    "The algo needs to automatically decide on the splitting variables and split points,and also what topology (shape) the tree should have. Suppose first that we have a partition into M regions $R_1,R_2,...R_M$, and we model the response as a constant $c_m$ in each region:\n",
    "\n",
    "\\begin{align}\n",
    "f(x)=\\sum_{i=1}^M c_m I(x \\in R_m)\n",
    "\\end{align}\n",
    "\n",
    "If we adopt as our criterion minimization of the sum of squares $\\sum(y_i-f(x_i))^2$,it is easy to see that the best $\\hat{c_m}$ is just the average of $y_i$ in region $R_m$\n",
    "\n",
    "\\begin{align}\n",
    "\\hat{c_m}=ave(y_i|x_i \\in R_m)\n",
    "\\end{align}\n",
    "\n",
    "## Greedy Algorithm\n",
    "Now finding the best binary partition in terms of minimum sum of squares is generally computationally infeasible. \n",
    "\n",
    "Hence we proceed with a *greedy algorithm*. \n",
    "\n",
    "1. Starting with all of the data, consider a splitting variable j and split point s\n",
    "2. Define the pair of half-planes\n",
    "\\begin{align}\n",
    "R_1(j,s)=\\{X|X_j\\leq s \\},  R_2(j,s)=\\{X|X_j > s \\}\n",
    "\\end{align}\n",
    "\n",
    "3. Seek the splitting variable j and split point s that solve:\n",
    "\\begin{align}\n",
    "min_{j,s} \\left[ min_{c_1}\\sum_{x_i \\in R_1(j,s)}(y_i-c_1)^2+min_{c_2}\\sum_{x_i \\in R_2(j,s)}(y_i-c_2)^2 \\right]\n",
    "\\end{align}\n",
    "\n",
    "4. For any choice j and s, the inner minimization is solved by:\n",
    "\\begin{align}\n",
    "\\hat{c_1}=ave(y_i|x_i \\in R_1(j,s)) \\\\\n",
    "\\hat{c_2}=ave(y_i|x_i \\in R_2(j,s))\n",
    "\\end{align}\n",
    "> For each splitting variable, the determination of the split point s can be done very quickly and hence by scanning through all of the inputs,determination of the best pair (j; s) is feasible.\n",
    "\n",
    "5. Having found the best split, we partition the data into the two resulting\n",
    "regions and repeat the splitting process on each of the two regions.\n",
    "\n",
    "## Pruning\n",
    "**How large should we grow the tree?**\n",
    "\n",
    "The preferred strategy is to grow a large tree $T_0$, stopping the splitting process only when some minimum node size (say 5) is reached. Then this large tree is pruned using **cost-complexity pruning**\n",
    "\n",
    "1. Define a subtree $T \\in T_0$ to be any tree that can be obtained by pruning $T_0$, that is, collapsing any number of its internal (non-terminal) nodes. \n",
    " - Index terminal nodes by $m$, with node m representing region $R_m$. \n",
    " - $|T|$: the number of terminal nodes in T. \n",
    " - $N_m=\\#\\{x_i \\in R_m\\}$\n",
    " - $\\hat{c}_m=\\frac{1}{N_m}\\sum_{x_i \\in R_m}y_i$\n",
    " - $Q_m(T)=\\frac{1}{N_m}\\sum_{x_i \\in R_m}(y_i-\\hat{c}_m)^2$\n",
    " \n",
    "2. Define cost complexity criterion:\n",
    "\\begin{align}\n",
    "C_\\alpha(T)=\\sum_{m=1}^{|T|}N_mQ_m(T)+\\alpha|T|\n",
    "\\end{align}\n",
    "\n",
    "### Intuition\n",
    "The idea is to find, for each $\\alpha$, the subtree $T_\\alpha \\in T_0$ to minimize $C_\\alpha(T)$.\n",
    "\n",
    "The tuning parameter $\\alpha \\geq0$ governs the tradeoff between tree size and its\n",
    "goodness of fit to the data. Large values of $\\alpha$ result in smaller trees $T_\\alpha$. As the notation suggests, with $\\alpha$ = 0 the solution is the full tree $T_0$.\n",
    "\n",
    "### Adaptively choose $\\alpha$\n",
    "\n",
    "> For each $\\alpha$ one can show that there is a unique smallest subtree $T_\\alpha$ that\n",
    "minimizes $C_\\alpha(T)$.\n",
    "\n",
    "- To find $T_\\alpha$ we use **weakest link pruning**: we successively collapse the internal node that produces the smallest per-node increase in $\\sum_{m}N_mQ_m(T)$, and continue until we produce the single-node (root) tree.\n",
    "- This gives a (finite) sequence of subtrees, and one can show this sequence must contain $T_\\alpha$."
   ]
  },
  {
   "cell_type": "markdown",
   "metadata": {},
   "source": [
    "# Implementation"
   ]
  },
  {
   "cell_type": "code",
   "execution_count": 1,
   "metadata": {},
   "outputs": [
    {
     "name": "stderr",
     "output_type": "stream",
     "text": [
      "/home/nancy/.local/lib/python3.6/site-packages/sklearn/utils/validation.py:595: DataConversionWarning: Data with input dtype int64 was converted to float64 by StandardScaler.\n",
      "  warnings.warn(msg, DataConversionWarning)\n",
      "/home/nancy/.local/lib/python3.6/site-packages/sklearn/utils/validation.py:595: DataConversionWarning: Data with input dtype int64 was converted to float64 by StandardScaler.\n",
      "  warnings.warn(msg, DataConversionWarning)\n",
      "/home/nancy/.local/lib/python3.6/site-packages/sklearn/utils/validation.py:595: DataConversionWarning: Data with input dtype int64 was converted to float64 by StandardScaler.\n",
      "  warnings.warn(msg, DataConversionWarning)\n",
      "/home/nancy/.local/lib/python3.6/site-packages/sklearn/utils/validation.py:595: DataConversionWarning: Data with input dtype int64 was converted to float64 by StandardScaler.\n",
      "  warnings.warn(msg, DataConversionWarning)\n"
     ]
    }
   ],
   "source": [
    "import numpy as np\n",
    "import pandas as pd\n",
    "import matplotlib.pyplot as plt\n",
    "from sklearn.model_selection import train_test_split\n",
    "\n",
    "df=pd.read_csv('./data/Position_Salaries.csv')\n",
    "X=df.iloc[:,1:-1].values\n",
    "y=df.iloc[:,-1:].values\n",
    "\n",
    "# Feature scaling\n",
    "from sklearn.preprocessing import StandardScaler\n",
    "stan_x=StandardScaler()\n",
    "stan_y=StandardScaler()\n",
    "X=stan_x.fit_transform(X)\n",
    "y=stan_y.fit_transform(y)"
   ]
  },
  {
   "cell_type": "code",
   "execution_count": 3,
   "metadata": {},
   "outputs": [
    {
     "data": {
      "text/plain": [
       "DecisionTreeRegressor(criterion='mse', max_depth=None, max_features=None,\n",
       "           max_leaf_nodes=None, min_impurity_decrease=0.0,\n",
       "           min_impurity_split=None, min_samples_leaf=1,\n",
       "           min_samples_split=2, min_weight_fraction_leaf=0.0,\n",
       "           presort=False, random_state=0, splitter='best')"
      ]
     },
     "execution_count": 3,
     "metadata": {},
     "output_type": "execute_result"
    }
   ],
   "source": [
    "from sklearn.tree import DecisionTreeRegressor\n",
    "regressor=DecisionTreeRegressor(random_state=0)\n",
    "regressor.fit(X,y)"
   ]
  },
  {
   "cell_type": "code",
   "execution_count": 4,
   "metadata": {},
   "outputs": [
    {
     "data": {
      "text/plain": [
       "[<matplotlib.lines.Line2D at 0x7f105c15ef28>]"
      ]
     },
     "execution_count": 4,
     "metadata": {},
     "output_type": "execute_result"
    },
    {
     "data": {
      "image/png": "[encoded data removed]",
      "text/plain": [
       "<Figure size 432x288 with 1 Axes>"
      ]
     },
     "metadata": {
      "needs_background": "light"
     },
     "output_type": "display_data"
    }
   ],
   "source": [
    "#Plot decision tree regression for higher resolution and smoother curve\n",
    "X_grid=np.arange(min(X),max(X),0.1)\n",
    "X_grid=X_grid.reshape((X_grid.shape[0],1))\n",
    "plt.scatter(X,y,color='blue')\n",
    "plt.plot(X_grid,regressor.predict(X_grid),color='red')"
   ]
  },
  {
   "cell_type": "markdown",
   "metadata": {},
   "source": [
    "Decision  Tree Regression is nonlinear nor non-continuous regression model.The best way to visualize and non-continuous regression model si to visualize the regression model results in higher resolution."
   ]
  },
  {
   "cell_type": "markdown",
   "metadata": {},
   "source": [
    "# Questions\n",
    "\n",
    "## How does the algorithm split the data points?\n",
    "It uses reduction of standard deviation of the predictions. In other words, the standard deviation is decreased\n",
    "right after a split. Hence, building a decision tree is all about ﬁnding the attribute that returns the highest\n",
    "standard deviation reduction (i.e., the most homogeneous branches).  \n",
    "\n",
    "## What is the Information Gain and how does it work in Decision Trees?\n",
    "The Information Gain in Decision Tree Regression is exactly the Standard Deviation Reduction we are\n",
    "looking to reach. \n",
    "\n",
    "We calculate by how much the Standard Deviation decreases after each split. Because the\n",
    "more the Standard Deviation is decreased after a split, the more homogeneous the child nodes will be.\n",
    "\n",
    "## What is the Entropy and how does it work in Decision Trees?\n",
    "The Entropy measures the **disorder in a set**, here in a part resulting from a split. So the more homogeneous\n",
    "is your data in a part, the lower will be the entropy. The more you have splits, the more you have chance\n",
    "to ﬁnd parts in which your data is homogeneous, and therefore the lower will be the entropy (close to 0) in\n",
    "these parts. However you might still ﬁnd some nodes where the data is not homogeneous, and therefore the\n",
    "entropy would not be that small.\n",
    "\n",
    "## Does a Decision Tree make much sense in 1D?\n",
    "Not really, as we saw in the practical part of this section. In 1D (meaning one independent variable), the\n",
    "Decision Tree clearly tends to overﬁt the data. The Decision Tree would be much more relevant in higher\n",
    "dimension, but keep in mind that the implementation we made here in 1D would be exactly the same in\n",
    "higher dimension. Therefore you might want to keep that model in your toolkit in case you are dealing\n",
    "with a higher dimensional space. This will actually be the case in Part 3 - Classiﬁcation, where we will use\n",
    "Decision Tree for Classiﬁcation in 2D, which you will see turns out to be more relevant."
   ]
  },
  {
   "cell_type": "code",
   "execution_count": null,
   "metadata": {},
   "outputs": [],
   "source": []
  }
 ],
 "metadata": {
  "kernelspec": {
   "display_name": "Python 3",
   "language": "python",
   "name": "python3"
  },
  "language_info": {
   "codemirror_mode": {
    "name": "ipython",
    "version": 3
   },
   "file_extension": ".py",
   "mimetype": "text/x-python",
   "name": "python",
   "nbconvert_exporter": "python",
   "pygments_lexer": "ipython3",
   "version": "3.7.3"
  },
  "toc": {
   "base_numbering": 1,
   "nav_menu": {},
   "number_sections": true,
   "sideBar": true,
   "skip_h1_title": false,
   "title_cell": "Table of Contents",
   "title_sidebar": "Contents",
   "toc_cell": false,
   "toc_position": {},
   "toc_section_display": true,
   "toc_window_display": false
  }
 },
 "nbformat": 4,
 "nbformat_minor": 2
}
