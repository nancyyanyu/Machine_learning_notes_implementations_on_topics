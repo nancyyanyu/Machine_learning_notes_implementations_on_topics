{
 "cells": [
  {
   "cell_type": "markdown",
   "metadata": {},
   "source": [
    "# Basic Ideas\n",
    "Random forests is a substantial modification of bagging that builds a large collection of de-correlated trees, and then averages them.\n",
    "\n",
    "## Definition of Random Forests\n",
    "**Bagging**: The essential idea in bagging is to average many noisy but approximately unbiased models, and hence reduce the variance. *Trees* are ideal candidates for bagging, since they can capture complex interaction structures in the data, and if grown sufficiently deep, have relatively low bias.\n",
    "\n",
    ">A complicated decision tree (e.g. deep) has low bias and high variance. The bias-variance tradeoff does depend on the depth of the tree.\n",
    "\n",
    "\n",
    "A visual representation of the terms bias and variance             |   A curve of squared bias vs variance showing the inverse correlation \n",
    ":-------------------------:|:-------------------------:\n",
    "<img src=\"./images/bias-var.png\" width=250> | <img src=\"./images/bias-var2.png\" width=300>\n",
    "\n",
    "An average of B i.i.d. random variables, each with variance $\\sigma^2$, has variance $\\frac{1}{B^2}$. If the variables are simply i.d. (identically distributed, but not necessarily independent) with positive pairwise correlation $\\rho$, the variance of the average is:\n",
    "\n",
    "\\begin{align}\n",
    "\\rho\\sigma^2+\\frac{1-\\rho}{B}\\sigma^2\n",
    "\\end{align}\n",
    "\n",
    "As B increases, the second term disappears, but the first remains, and hence the size of the correlation of pairs of bagged trees limits the benefits of averaging. \n",
    "\n",
    "### Intuition of random forests\n",
    "The idea in random forests is to improve the **variance reduction of bagging** by **reducing the correlation between the trees**, without increasing the variance too much. This is achieved in the tree-growing process through *random selection of the input variables*.\n",
    "\n",
    "### Algorithms of random forests\n",
    "Specifically, when growing a tree on a bootstrapped dataset:\n",
    ">Before each split, select m $\\leq$ p of the input variables at random\n",
    "as candidates for splitting.\n",
    "\n",
    "Typically values for m are $\\sqrt{p}$ or even as low as 1.\n",
    "\n",
    "After B such trees $\\{T(x;\\theta_b)\\}_1^B$are grown, the random forest (regression)\n",
    "predictor is:\n",
    "\n",
    "\\begin{align}\n",
    "\\hat{f}_{rf}^B(x)=\\frac{1}{B}\\sum_{b=1}^BT(x;\\theta_b)\n",
    "\\end{align}\n",
    "\n",
    "$\\theta_b$ characterizes the bth random forest tree in terms of split variables, cutpoints at each node, and terminal-node values.\n",
    "\n",
    "Intuitively, reducing m will reduce the correlation between any pair of trees in the ensemble, and hence reduce the variance of the average.\n",
    "\n",
    "<img src=\"./images/rf1.png\" width=400> \n",
    "\n",
    "\n",
    "In Random Forest, only a random subset of the features is taken into consideration by the algorithm for splitting a node. You can even make trees more random, by additionally using random thresholds for each feature rather than searching for the best possible thresholds (like a normal decision tree does)."
   ]
  },
  {
   "cell_type": "markdown",
   "metadata": {},
   "source": [
    "# Implementation"
   ]
  },
  {
   "cell_type": "code",
   "execution_count": 1,
   "metadata": {},
   "outputs": [
    {
     "name": "stderr",
     "output_type": "stream",
     "text": [
      "/anaconda3/lib/python3.7/site-packages/sklearn/utils/validation.py:595: DataConversionWarning: Data with input dtype int64 was converted to float64 by StandardScaler.\n",
      "  warnings.warn(msg, DataConversionWarning)\n",
      "/anaconda3/lib/python3.7/site-packages/sklearn/utils/validation.py:595: DataConversionWarning: Data with input dtype int64 was converted to float64 by StandardScaler.\n",
      "  warnings.warn(msg, DataConversionWarning)\n",
      "/anaconda3/lib/python3.7/site-packages/sklearn/utils/validation.py:595: DataConversionWarning: Data with input dtype int64 was converted to float64 by StandardScaler.\n",
      "  warnings.warn(msg, DataConversionWarning)\n",
      "/anaconda3/lib/python3.7/site-packages/sklearn/utils/validation.py:595: DataConversionWarning: Data with input dtype int64 was converted to float64 by StandardScaler.\n",
      "  warnings.warn(msg, DataConversionWarning)\n"
     ]
    }
   ],
   "source": [
    "import numpy as np\n",
    "import pandas as pd\n",
    "import matplotlib.pyplot as plt\n",
    "from sklearn.model_selection import train_test_split\n",
    "\n",
    "df=pd.read_csv('./data/Position_Salaries.csv')\n",
    "X=df.iloc[:,1:-1].values\n",
    "y=df.iloc[:,-1:].values\n",
    "\n",
    "# Feature scaling\n",
    "from sklearn.preprocessing import StandardScaler\n",
    "stan_x=StandardScaler()\n",
    "stan_y=StandardScaler()\n",
    "X=stan_x.fit_transform(X)\n",
    "y=stan_y.fit_transform(y)"
   ]
  },
  {
   "cell_type": "code",
   "execution_count": 2,
   "metadata": {},
   "outputs": [
    {
     "name": "stderr",
     "output_type": "stream",
     "text": [
      "/anaconda3/lib/python3.7/site-packages/ipykernel_launcher.py:4: DataConversionWarning: A column-vector y was passed when a 1d array was expected. Please change the shape of y to (n_samples,), for example using ravel().\n",
      "  after removing the cwd from sys.path.\n"
     ]
    },
    {
     "data": {
      "text/plain": [
       "RandomForestRegressor(bootstrap=True, criterion='mse', max_depth=None,\n",
       "           max_features='auto', max_leaf_nodes=None,\n",
       "           min_impurity_decrease=0.0, min_impurity_split=None,\n",
       "           min_samples_leaf=1, min_samples_split=2,\n",
       "           min_weight_fraction_leaf=0.0, n_estimators=300, n_jobs=None,\n",
       "           oob_score=False, random_state=0, verbose=0, warm_start=False)"
      ]
     },
     "execution_count": 2,
     "metadata": {},
     "output_type": "execute_result"
    }
   ],
   "source": [
    "#Fitting random forests\n",
    "from sklearn.ensemble import RandomForestRegressor\n",
    "regressor=RandomForestRegressor(n_estimators=300,random_state=0)\n",
    "regressor.fit(X,y)"
   ]
  },
  {
   "cell_type": "code",
   "execution_count": 3,
   "metadata": {},
   "outputs": [
    {
     "data": {
      "text/plain": [
       "[<matplotlib.lines.Line2D at 0x1a245c67f0>]"
      ]
     },
     "execution_count": 3,
     "metadata": {},
     "output_type": "execute_result"
    },
    {
     "data": {
      "image/png": "[encoded data removed]",
      "text/plain": [
       "<Figure size 432x288 with 1 Axes>"
      ]
     },
     "metadata": {
      "needs_background": "light"
     },
     "output_type": "display_data"
    }
   ],
   "source": [
    "#Plot\n",
    "X_grid=np.arange(min(X),max(X),0.01)\n",
    "X_grid=X_grid.reshape((X_grid.shape[0],1))\n",
    "plt.scatter(X,y,color='blue')\n",
    "plt.plot(X_grid,regressor.predict(X_grid),color='red')"
   ]
  },
  {
   "cell_type": "code",
   "execution_count": 4,
   "metadata": {},
   "outputs": [
    {
     "data": {
      "text/plain": [
       "array([1.96177845])"
      ]
     },
     "execution_count": 4,
     "metadata": {},
     "output_type": "execute_result"
    }
   ],
   "source": [
    "regressor.predict([[6.5]])"
   ]
  },
  {
   "cell_type": "markdown",
   "metadata": {},
   "source": [
    "# Questions\n",
    "## What is the advantage and drawback of Random Forests compared to Decision Trees? \n",
    "**Advantage:** Random Forests can give you a better predictive power than Decision Trees.\n",
    "**Drawback: **Decision Tree will give you more interpretability than Random Forests, because you can plot the\n",
    "graph of a Decision Tree to see the diﬀerent splits leading to the prediction, as seen in the Intuition Lecture.\n",
    "That’s something you can’t do with Random Forests.\n",
    "\n",
    "## When to use Random Forest and when to use the other models?\n",
    "The best answer to that question is: try them all!\n",
    "\n",
    "However , if you want some shortcuts, here are some rules of thumbs to help you decide which model to\n",
    "use:\n",
    "\n",
    "1. you need to ﬁgure out whether your problem is linear or non linear. You will learn how to do that in Model Selection.\n",
    " - If your problem is linear, you should go for Simple Linear Regression if you only have one feature, and Multiple Linear Regression if you have several features.\n",
    " - If your problem is non linear, you should go for Polynomial Regression, SVR, Decision Tree or Random Forest. Then which one should you choose among these four? That you will learn in Part 10 - Model Selection. \n",
    " \n",
    "2. The method consists of using a very relevant technique that evaluates your models performance,called **k-Fold Cross Validation**, and then picking the model that shows the best results. \n",
    "\n",
    "## How do I know how many trees I should use?\n",
    "1. I would recommend to choose the number of trees by experimenting. It usually takes less time than we think to ﬁgure out a best value by tweaking and tuning your model manually. That’s actually what we do in general when we build a Machine Learning model: we do it in several shots, by experimenting several values of hyperparameters like the number of trees. \n",
    "2. k-Fold Cross Validation and Grid Search, which are powerful techniques that you can use to ﬁnd the optimal value of a hyperparameter, like here the number of trees."
   ]
  },
  {
   "cell_type": "code",
   "execution_count": null,
   "metadata": {},
   "outputs": [],
   "source": []
  }
 ],
 "metadata": {
  "kernelspec": {
   "display_name": "Python 3",
   "language": "python",
   "name": "python3"
  },
  "language_info": {
   "codemirror_mode": {
    "name": "ipython",
    "version": 3
   },
   "file_extension": ".py",
   "mimetype": "text/x-python",
   "name": "python",
   "nbconvert_exporter": "python",
   "pygments_lexer": "ipython3",
   "version": "3.7.3"
  },
  "toc": {
   "base_numbering": 1,
   "nav_menu": {},
   "number_sections": true,
   "sideBar": true,
   "skip_h1_title": false,
   "title_cell": "Table of Contents",
   "title_sidebar": "Contents",
   "toc_cell": false,
   "toc_position": {},
   "toc_section_display": true,
   "toc_window_display": true
  }
 },
 "nbformat": 4,
 "nbformat_minor": 2
}
