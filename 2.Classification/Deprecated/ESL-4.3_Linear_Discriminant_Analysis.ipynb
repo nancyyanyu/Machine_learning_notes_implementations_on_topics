{
 "cells": [
  {
   "cell_type": "markdown",
   "metadata": {},
   "source": [
    "# 4.3 Linear Discriminant Analysis"
   ]
  },
  {
   "cell_type": "markdown",
   "metadata": {
    "collapsed": true
   },
   "source": [
    "Suppose\n",
    "* $f_k(x)$ is likelihood,the class-conditional density of $X$ in class $G=k$,\n",
    "* $\\pi_k$ is the prior probability of class $k$, with $\\sum\\pi_k=1$.\n",
    "\n",
    "A simple application of Bayes theorem gives us\n",
    "\n",
    "\\begin{equation}\n",
    "\\text{Pr}(G=k|X=x) = \\frac{f_k(x)\\pi_k}{\\sum_{l=1}^K f_l(x)\\pi_l}.\n",
    "\\end{equation}\n",
    "\n",
    "We see that in terms of ability to classify, having the $f_k(x)$ is almost equivalent to having the quantity $\\text{Pr}(G=k|X=x)$\n",
    "\n",
    "\n",
    "## LDA with multivariate Guassian \n",
    "Suppose that we model each class density as multivariate Gaussian\n",
    "\n",
    "\\begin{equation}\n",
    "f_k(x) = \\frac{1}{(2\\pi)^{p/2}|\\Sigma_k|^{1/2}}\\exp\\left\\lbrace -\\frac{1}{2}(x-\\mu_k)^T\\Sigma_k^{-1}(x-\\mu_k) \\right\\rbrace\n",
    "\\end{equation}\n",
    "\n",
    "Linear discriminant analysis (LDA) arises in the special case when we assume that the classes have a common covariance matrix $\\sum _k=\\sum, \\forall k$. In comparing two classes k and l, it is sufficient to look at the log-ratio:\n",
    "    \n",
    "\n",
    "\\begin{align}\n",
    "\\log\\frac{\\text{Pr}(G=k|X=x)}{\\text{Pr}(G=l|X=x)} &= \\log\\frac{f_k(x)}{f_l(x)} + \\log\\frac{\\pi_k}{\\pi_l} \\\\\n",
    "&= \\log\\frac{\\pi_k}{\\pi_l} - \\frac{1}{2}\\mu_k^T\\Sigma^{-1}\\mu_k + \\frac{1}{2}\\mu_l^T\\Sigma^{-1}\\mu_l + x^T\\Sigma^{-1}(\\mu_k-\\mu_l) \\\\\n",
    "&= \\delta_k(x) - \\delta_l(x),\n",
    "\\end{align}\n",
    "\n",
    ">an equation linear in x\n",
    "\n",
    "The equal covariance matrices cause the normalization factors to cancel, as well as the quadratic part in the exponents.\n",
    "<font color='red'>This linear log-odds function implies that the decision boundary between classes k and l - the set where $\\text{Pr}(G=k|X=x)=\\text{Pr}(G=l|X=x)$ is linear in x.</font>"
   ]
  },
  {
   "cell_type": "code",
   "execution_count": null,
   "metadata": {
    "collapsed": true
   },
   "outputs": [],
   "source": []
  }
 ],
 "metadata": {
  "kernelspec": {
   "display_name": "Python 3",
   "language": "python",
   "name": "python3"
  },
  "language_info": {
   "codemirror_mode": {
    "name": "ipython",
    "version": 3
   },
   "file_extension": ".py",
   "mimetype": "text/x-python",
   "name": "python",
   "nbconvert_exporter": "python",
   "pygments_lexer": "ipython3",
   "version": "3.6.3"
  }
 },
 "nbformat": 4,
 "nbformat_minor": 2
}
