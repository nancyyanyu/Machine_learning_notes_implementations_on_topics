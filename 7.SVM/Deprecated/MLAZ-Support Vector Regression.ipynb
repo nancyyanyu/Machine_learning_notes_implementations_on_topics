{
 "cells": [
  {
   "cell_type": "markdown",
   "metadata": {},
   "source": [
    "**Whats the main difference between SVR and a simple regression model?**\n",
    "In simple regression we try to minimise the error rate. While in SVR we try to fit the error within a certain threshold. \n",
    "\n",
    "Terms:\n",
    "1. **Kernel**: The function used to map a lower dimensional data into a higher dimensional data.\n",
    "2. **Hyper Plane**: In SVM this is basically the separation line between the data classes. Although in SVR we are going to define it as the line that will will help us predict the continuous value or target value\n",
    "3. **Boundary line**: In SVM there are two lines other than Hyper Plane which creates a margin . The support vectors can be on the Boundary lines or outside it. This boundary line separates the two classes. In SVR the concept is same.\n",
    "4. **Support vectors**: This are the data points which are closest to the boundary. The distance of the points is minimum or least."
   ]
  },
  {
   "cell_type": "markdown",
   "metadata": {},
   "source": [
    "# Basic Idea\n",
    "\n",
    "our goal is to find a function f(x) that has at most ε deviation from the actually obtained targets yi for all\n",
    "the training data, and at the same time is as flat as possible. In other words, we do not care about errors as long as they are less than ε, but will not accept any deviation larger than this.\n",
    "\n",
    "We begin by describing the case of linear functions f, taking the form:\n",
    "\n",
    "\\begin{align}\n",
    "f(x)=\\langle w,x \\rangle+b\n",
    "\\end{align}\n",
    "\n",
    " where <~,~>  denotes the dot product \n",
    " \n",
    "**Flatness** in the case means that one seeks a small w. One way to ensure this is to minimize the norm,i.e.$||w||^2, \\langle w,x \\rangle$\n",
    "\n",
    "\\begin{align}\n",
    "\\min \\frac{1}{2}||w||^2  \\\\\n",
    "s.t.  y_i-\\langle w,x_i \\rangle-b &\\leq \\epsilon \\\\\n",
    "y_i-\\langle w,x_i \\rangle-b &\\geq -\\epsilon\n",
    "\\end{align}\n",
    "\n",
    "<img src=\"./images/svr1.png\" width=200>\n",
    "\n",
    "The tacit assumption in restriction was that such a function f actually exists that approximates all pairs (xi, yi) with ε precision, or in other words, that the convex optimization problem is **feasible**.\n",
    "\n",
    "## Soft Margin\n",
    "\n",
    "\\begin{align}\n",
    "\\min \\frac{1}{2}||w||^2+C\\sum_{i=1}^l(\\xi_i+\\xi^*_i)  \\\\\n",
    "s.t.  y_i-\\langle w,x_i \\rangle-b &\\leq \\epsilon+\\xi_i \\\\\n",
    "\\langle w,x_i \\rangle+b-y_i &\\leq \\epsilon+\\xi_i^* \\\\\n",
    "\\xi_i,\\xi_i^* &\\geq 0\n",
    "\\end{align}\n",
    "\n",
    "<img src=\"./images/svr2.png\" width=200>\n",
    "\n",
    "The constant C > 0 determines the trade-off between the flatness of f and the amount up to which deviations larger than ε are tolerated. Only the points outside the shaded region contribute to the cost insofar, as the\n",
    "deviations are penalized in a linear fashion.\n",
    "\n",
    "<img src=\"./images/svr3.png\" width=300>\n",
    "\n"
   ]
  },
  {
   "cell_type": "markdown",
   "metadata": {},
   "source": [
    "# Dual Problem and Quadratic Programms\n",
    "The key idea is to construct a Lagrange function from the **primal** function and the corresponding constraints,\n",
    "by introducing a dual set of variables. \n",
    "\n",
    "\\begin{align}\n",
    "L = \\frac{1}{2}||w||^2 &+C\\sum_{i=1}^l(\\xi_i+\\xi^*_i)  - \\sum_{i=1}^l(\\eta_i \\xi_i+\\eta_i^* \\xi_i^*)  \\\\\n",
    "                & -\\sum_{i=1}^l \\alpha_i(\\epsilon+\\xi_i-y_i+\\langle w,x_i \\rangle+b) \\\\\n",
    "                & -\\sum_{i=1}^l \\alpha_i^*(\\epsilon+\\xi_i^*+y_i-\\langle w,x_i \\rangle-b) \\\\\n",
    "\\end{align}\n",
    "  \n",
    "It follows from the saddle point condition that the partial derivatives of L with respect to the primal variables\n",
    "($w,b,\\xi_i,\\xi_i^*$) have to vanish for optimality.  \n",
    "\n",
    "\\begin{align}\n",
    "\\partial_b L  &= \\sum_{i=1}^l(\\alpha_i^*-\\alpha_i)=0  \\\\\n",
    "\\partial_w L  &= w- \\sum_{i=1}^l(\\alpha_i-\\alpha_i^*) x_i=0 \\\\\n",
    "\\partial_{\\xi^{(*)}} L  &= C-\\eta^{(*)}-\\alpha^{(*)}=0\n",
    "\\end{align} \n",
    "\n",
    "Substituting them into L yields the dual optimization problem.\n",
    "\\begin{align}\n",
    "\\max &-\\frac{1}{2}\\sum_{i,j=1}^l(\\alpha_i-\\alpha_i^*)(\\alpha_j-\\alpha_j^*)\\langle x_i,x_j \\rangle -\\epsilon \\sum_{i=1}^l(\\alpha_i+\\alpha_i^*)+ \\sum_{i=1}^l y_i(\\alpha_i-\\alpha_i^*) \\\\\n",
    "s.t & \\sum_{i=1}^l(\\alpha_i^*-\\alpha_i)=0 ; \\alpha_i^*,\\alpha_i \\in [0,C]\n",
    "\\end{align} \n",
    "\n",
    "<img src=\"./images/svr4.png\" width=450>\n",
    "\n",
    "## Support Vector expansion\n",
    "\n",
    "Because $w= \\sum_{i=1}^l(\\alpha_i-\\alpha_i^*) x_i$, so that:\n",
    "\n",
    "\\begin{align}\n",
    "f(x)=\\sum_{i=1}^l(\\alpha_i-\\alpha_i^*) \\langle x_i,x \\rangle+b\n",
    "\\end{align} \n",
    "\n",
    "$w$ can be completely described as a linear combination of the training patterns xi. In a sense, the complexity of a function’s representation by SVs is independent of the dimensionality of the input space X, and depends only on the number of SVs.\n",
    "\n"
   ]
  },
  {
   "cell_type": "markdown",
   "metadata": {},
   "source": [
    "# Non-linear SVR\n",
    "\n",
    "\\begin{align}\n",
    "f(x)&=\\sum_{i=1}^l(\\alpha_i-\\alpha_i^*) \\langle \\phi(x_i),\\phi(x) \\rangle+b \\\\\n",
    "f(x)&=\\sum_{i=1}^l(\\alpha_i-\\alpha_i^*)  K(x_i,x) +b\n",
    "\\end{align} \n",
    "\n",
    "## Kernel functions\n",
    "\n",
    "1. polynomial\n",
    "\\begin{align}\n",
    "K(x_i,x_j) =\\langle x_i,x_j \\rangle^d=(x_i^T x_j+1)^d\n",
    "\\end{align}\n",
    "\n",
    "2. Guassian Radial Basis\n",
    "\\begin{align}\n",
    "K(x_i,x_j) =exp(-\\frac{||x_i-x_j||^2}{2\\sigma^2})\n",
    "\\end{align}\n"
   ]
  },
  {
   "cell_type": "markdown",
   "metadata": {},
   "source": [
    "# Build a SVR\n",
    "1. Collect training data $\\tau=(X,Y)$\n",
    "2. Choose kernel, and regularization\n",
    "3. Form the correlation matrix K\n",
    "4. Train your machine to get contraction coefficients $\\alpha=\\{\\alpha_i\\}$\n",
    "5. Use these coefficients to create your predictor $f(X,\\alpha,x^*)=y^*$"
   ]
  },
  {
   "cell_type": "code",
   "execution_count": 2,
   "metadata": {},
   "outputs": [],
   "source": [
    "import numpy as np\n",
    "import pandas as pd\n",
    "import matplotlib.pyplot as plt\n",
    "from sklearn.model_selection import train_test_split\n",
    "\n",
    "df=pd.read_csv('./data/Position_Salaries.csv')\n",
    "X=df.iloc[:,1:-1].values\n",
    "y=df.iloc[:,-1:].values\n"
   ]
  },
  {
   "cell_type": "code",
   "execution_count": 3,
   "metadata": {},
   "outputs": [
    {
     "name": "stderr",
     "output_type": "stream",
     "text": [
      "/home/nancy/.local/lib/python3.6/site-packages/sklearn/utils/validation.py:595: DataConversionWarning: Data with input dtype int64 was converted to float64 by StandardScaler.\n",
      "  warnings.warn(msg, DataConversionWarning)\n",
      "/home/nancy/.local/lib/python3.6/site-packages/sklearn/utils/validation.py:595: DataConversionWarning: Data with input dtype int64 was converted to float64 by StandardScaler.\n",
      "  warnings.warn(msg, DataConversionWarning)\n",
      "/home/nancy/.local/lib/python3.6/site-packages/sklearn/utils/validation.py:595: DataConversionWarning: Data with input dtype int64 was converted to float64 by StandardScaler.\n",
      "  warnings.warn(msg, DataConversionWarning)\n",
      "/home/nancy/.local/lib/python3.6/site-packages/sklearn/utils/validation.py:595: DataConversionWarning: Data with input dtype int64 was converted to float64 by StandardScaler.\n",
      "  warnings.warn(msg, DataConversionWarning)\n"
     ]
    }
   ],
   "source": [
    "# Feature scaling\n",
    "from sklearn.preprocessing import StandardScaler\n",
    "stan_x=StandardScaler()\n",
    "stan_y=StandardScaler()\n",
    "X=stan_x.fit_transform(X)\n",
    "y=stan_y.fit_transform(y)"
   ]
  },
  {
   "cell_type": "code",
   "execution_count": 4,
   "metadata": {},
   "outputs": [
    {
     "name": "stderr",
     "output_type": "stream",
     "text": [
      "/home/nancy/.local/lib/python3.6/site-packages/sklearn/utils/validation.py:761: DataConversionWarning: A column-vector y was passed when a 1d array was expected. Please change the shape of y to (n_samples, ), for example using ravel().\n",
      "  y = column_or_1d(y, warn=True)\n"
     ]
    },
    {
     "data": {
      "text/plain": [
       "array([170370.0204065])"
      ]
     },
     "execution_count": 4,
     "metadata": {},
     "output_type": "execute_result"
    }
   ],
   "source": [
    "# Fitting SVR to the dataset\n",
    "from sklearn.svm import SVR\n",
    "regressor=SVR(kernel='rbf')\n",
    "regressor.fit(X,y)\n",
    "\n",
    "\n",
    "#Predict a new data point\n",
    "y_pred=stan_y.inverse_transform(regressor.predict(stan_x.transform(np.array([[6.5]]))))\n",
    "y_pred"
   ]
  },
  {
   "cell_type": "code",
   "execution_count": 6,
   "metadata": {},
   "outputs": [
    {
     "data": {
      "text/plain": [
       "[<matplotlib.lines.Line2D at 0x7f21b1cb03c8>]"
      ]
     },
     "execution_count": 6,
     "metadata": {},
     "output_type": "execute_result"
    },
    {
     "data": {
      "image/png": "[encoded data removed]",
      "text/plain": [
       "<Figure size 432x288 with 1 Axes>"
      ]
     },
     "metadata": {
      "needs_background": "light"
     },
     "output_type": "display_data"
    }
   ],
   "source": [
    "plt.scatter(X,y,color='blue')\n",
    "plt.plot(X,regressor.predict(X),color='red')"
   ]
  },
  {
   "cell_type": "markdown",
   "metadata": {},
   "source": [
    "# Questions\n",
    "\n",
    "## When should I use SVR?\n",
    "You should use SVR if a linear model like linear regression doesn’t ﬁt very well your data. This would mean\n",
    "you are dealing with a **non linear problem**, where your data is not linearly distributed. Therefore in that\n",
    "case SVR could be a much better solution.\n",
    "\n",
    "## Why do we need to ’sc_Y.inverse_transform’?\n",
    "We need the inverse_transform method to go back to the original scale. Indeed we applied feature scaling\n",
    "so we get this scale around 0 and if we make a prediction without inversing the scale we will get the\n",
    "scaled predicted salary. And of course we want the real salary, not the scaled one, so we have to use\n",
    "’sc_Y.inverse_transform’. Also what is important to understand is that ’transform’ and ’inverse_transform’\n",
    "are paired methods."
   ]
  },
  {
   "cell_type": "code",
   "execution_count": null,
   "metadata": {},
   "outputs": [],
   "source": []
  }
 ],
 "metadata": {
  "kernelspec": {
   "display_name": "Python 3",
   "language": "python",
   "name": "python3"
  },
  "language_info": {
   "codemirror_mode": {
    "name": "ipython",
    "version": 3
   },
   "file_extension": ".py",
   "mimetype": "text/x-python",
   "name": "python",
   "nbconvert_exporter": "python",
   "pygments_lexer": "ipython3",
   "version": "3.6.7"
  },
  "toc": {
   "base_numbering": 1,
   "nav_menu": {},
   "number_sections": true,
   "sideBar": true,
   "skip_h1_title": false,
   "title_cell": "Table of Contents",
   "title_sidebar": "Contents",
   "toc_cell": false,
   "toc_position": {},
   "toc_section_display": true,
   "toc_window_display": true
  }
 },
 "nbformat": 4,
 "nbformat_minor": 2
}
